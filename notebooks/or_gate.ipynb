{
 "cells": [
  {
   "cell_type": "markdown",
   "metadata": {
    "id": "MQMZkMGl3xqj"
   },
   "source": [
    "## **Modelado del comportamiento de una compuerta OR con un perceptrón**\n",
    "\n",
    "**1. Importamos las librerías necesarias**"
   ]
  },
  {
   "cell_type": "code",
   "execution_count": 1,
   "metadata": {
    "colab": {
     "base_uri": "https://localhost:8080/",
     "height": 36
    },
    "id": "RthkmoBioSBr",
    "outputId": "d15a9ceb-9215-4427-8d97-2cab31218aaf"
   },
   "outputs": [
    {
     "data": {
      "application/vnd.google.colaboratory.intrinsic+json": {
       "type": "string"
      },
      "text/plain": [
       "'tensorflow version: 2.9.2'"
      ]
     },
     "execution_count": 1,
     "metadata": {},
     "output_type": "execute_result"
    }
   ],
   "source": [
    "# generales:\n",
    "import os\n",
    "import numpy as np\n",
    "import pandas as pd\n",
    "import tensorflow as tf\n",
    "\n",
    "# para las redes neuronales:\n",
    "from keras import models, layers\n",
    "from keras.optimizers import SGD\n",
    "from keras.utils.vis_utils import plot_model\n",
    "\n",
    "# para plotting:\n",
    "from matplotlib import cm\n",
    "from matplotlib import pyplot as plt\n",
    "%matplotlib inline\n",
    "\n",
    "f\"tensorflow version: {tf.__version__}\""
   ]
  },
  {
   "cell_type": "markdown",
   "metadata": {
    "id": "WqeMaxvy4NxO"
   },
   "source": [
    "**2. Creamos los tensores para los datos de entrada y los _targets_**"
   ]
  },
  {
   "cell_type": "code",
   "execution_count": 2,
   "metadata": {
    "colab": {
     "base_uri": "https://localhost:8080/"
    },
    "id": "I7o6YGsVeDK6",
    "outputId": "ca5ccc49-eacf-45ed-d8b4-281258ea72fa"
   },
   "outputs": [
    {
     "data": {
      "text/plain": [
       "((4, 2), (4, 1))"
      ]
     },
     "execution_count": 2,
     "metadata": {},
     "output_type": "execute_result"
    }
   ],
   "source": [
    "X = np.array([[0,0],[0,1],[1,0],[1,1]], 'float32')\n",
    "y = np.array([[0],[1],[1],[1]], 'float32')\n",
    "X.shape, y.shape"
   ]
  },
  {
   "cell_type": "markdown",
   "metadata": {
    "id": "S1vqoovUvCgy"
   },
   "source": [
    "**3. Calculamos las dimensiones requeridas para el perceptrón**"
   ]
  },
  {
   "cell_type": "code",
   "execution_count": 3,
   "metadata": {
    "id": "H2r7Qua94nb5"
   },
   "outputs": [],
   "source": [
    "def getNetParams(x, t):\n",
    "  if x.shape[0] != t.shape[0]:\n",
    "    return 0, 0, 0\n",
    "  features   = x.shape[1]\n",
    "  categories = t.shape[1]\n",
    "  samples    = x.shape[0]\n",
    "  return features, categories, samples"
   ]
  },
  {
   "cell_type": "code",
   "execution_count": 4,
   "metadata": {
    "colab": {
     "base_uri": "https://localhost:8080/"
    },
    "id": "Q0dnrCFWvCxr",
    "outputId": "9aae4809-b240-4423-b4ac-6552186123ad"
   },
   "outputs": [
    {
     "data": {
      "text/plain": [
       "(2, 1, 4)"
      ]
     },
     "execution_count": 4,
     "metadata": {},
     "output_type": "execute_result"
    }
   ],
   "source": [
    "features, categories, samples = getNetParams(X, y)\n",
    "features, categories, samples"
   ]
  },
  {
   "cell_type": "markdown",
   "metadata": {
    "id": "qvAWJK4iRGX_"
   },
   "source": [
    "## **Modelo del perceptrón**"
   ]
  },
  {
   "cell_type": "code",
   "execution_count": 5,
   "metadata": {
    "id": "qYtTmin143jq"
   },
   "outputs": [],
   "source": [
    "def Perceptron():\n",
    "    # crear el modelo de perceptrón\n",
    "    model = models.Sequential(name='OR')\n",
    "    model.add(\n",
    "      layers.Dense(\n",
    "        name='perceptron',\n",
    "        units=categories,\n",
    "        activation='sigmoid',\n",
    "        input_dim=features\n",
    "      )\n",
    "    )\n",
    "    # compilar el modelo\n",
    "    model.compile(\n",
    "      loss='mean_squared_error', # función de pérdida\n",
    "      metrics=[\"accuracy\"]\n",
    "    ) # métricas con las que se evaluará el modelo\n",
    "    return model"
   ]
  },
  {
   "cell_type": "markdown",
   "metadata": {
    "id": "cHbeWW6E4inx"
   },
   "source": [
    "**4. Instanciamos y entrenamos nuestro modelo**"
   ]
  },
  {
   "cell_type": "code",
   "execution_count": 6,
   "metadata": {
    "colab": {
     "base_uri": "https://localhost:8080/"
    },
    "id": "utdaDjy3D5k7",
    "outputId": "9bf816df-056d-466f-c17f-2abada2e3a35"
   },
   "outputs": [
    {
     "name": "stdout",
     "output_type": "stream",
     "text": [
      "Model: \"OR\"\n",
      "_________________________________________________________________\n",
      " Layer (type)                Output Shape              Param #   \n",
      "=================================================================\n",
      " perceptron (Dense)          (None, 1)                 3         \n",
      "                                                                 \n",
      "=================================================================\n",
      "Total params: 3\n",
      "Trainable params: 3\n",
      "Non-trainable params: 0\n",
      "_________________________________________________________________\n"
     ]
    }
   ],
   "source": [
    "perceptron = Perceptron()\n",
    "perceptron.summary()"
   ]
  },
  {
   "cell_type": "code",
   "execution_count": 7,
   "metadata": {
    "id": "SNhaaZ8fo8oJ"
   },
   "outputs": [],
   "source": [
    "metrics = perceptron.fit(X, y, epochs=1500, verbose=0)"
   ]
  },
  {
   "cell_type": "markdown",
   "metadata": {
    "id": "S71q-zmU4oba"
   },
   "source": [
    "**5. Predecimos valores con nuestro modelo entrenado**"
   ]
  },
  {
   "cell_type": "code",
   "execution_count": 8,
   "metadata": {
    "colab": {
     "base_uri": "https://localhost:8080/"
    },
    "id": "-AO_v5m0dF6k",
    "outputId": "1dc23b79-4760-40bd-db6a-4e28c667334f"
   },
   "outputs": [
    {
     "name": "stdout",
     "output_type": "stream",
     "text": [
      "1/1 [==============================] - 0s 53ms/step\n"
     ]
    },
    {
     "data": {
      "text/plain": [
       "array([[0.38208818],\n",
       "       [0.63945556],\n",
       "       [0.9177027 ],\n",
       "       [0.96968216]], dtype=float32)"
      ]
     },
     "execution_count": 8,
     "metadata": {},
     "output_type": "execute_result"
    }
   ],
   "source": [
    "perceptron.predict(X)"
   ]
  },
  {
   "cell_type": "markdown",
   "metadata": {
    "id": "kYb-29UH4v84"
   },
   "source": [
    "**6. Observamos los valores de los pesos**"
   ]
  },
  {
   "cell_type": "code",
   "execution_count": 9,
   "metadata": {
    "colab": {
     "base_uri": "https://localhost:8080/"
    },
    "id": "gM5ebyFA6-Xe",
    "outputId": "f182246d-bdea-4c09-fef8-8c1335c61ce1"
   },
   "outputs": [
    {
     "data": {
      "text/plain": [
       "(array([[2.892229 ],\n",
       "        [1.0536962]], dtype=float32), array([-0.48069426], dtype=float32))"
      ]
     },
     "execution_count": 9,
     "metadata": {},
     "output_type": "execute_result"
    }
   ],
   "source": [
    "W0 = perceptron.layers[0].get_weights()[0]\n",
    "b0 = perceptron.layers[0].get_weights()[1]\n",
    "W0, b0"
   ]
  },
  {
   "cell_type": "markdown",
   "metadata": {
    "id": "e2nyK7W9RWFR"
   },
   "source": [
    "### **Interpretando resultados**"
   ]
  },
  {
   "cell_type": "markdown",
   "metadata": {
    "id": "pL_SXyhm42qL"
   },
   "source": [
    "**7. Observamos la función de pérdida de nuestro modelo durante el entrenamiento**"
   ]
  },
  {
   "cell_type": "code",
   "execution_count": 10,
   "metadata": {
    "colab": {
     "base_uri": "https://localhost:8080/",
     "height": 314
    },
    "id": "SgQSnLrdr5Af",
    "outputId": "641f95d0-21bf-420d-df24-53c9cb4f0a29"
   },
   "outputs": [
    {
     "data": {
      "application/vnd.google.colaboratory.intrinsic+json": {
       "type": "string"
      },
      "text/plain": [
       "'min val: 0.07096429169178009, last val: 0.07096429169178009'"
      ]
     },
     "execution_count": 10,
     "metadata": {},
     "output_type": "execute_result"
    },
    {
     "data": {
      "image/png": "[encoded data removed]",
      "text/plain": [
       "<Figure size 432x288 with 1 Axes>"
      ]
     },
     "metadata": {
      "needs_background": "light"
     },
     "output_type": "display_data"
    }
   ],
   "source": [
    "loss = metrics.history['loss']\n",
    "\n",
    "ax = pd.DataFrame({'loss value': loss}).plot(title='Performance')\n",
    "ax.set_xlabel(\"Epochs\")\n",
    "ax.set_ylabel(\"Loss\")\n",
    "ax.plot()\n",
    "\n",
    "f\"min val: {min(loss)}, last val: {loss[-1]}\""
   ]
  },
  {
   "cell_type": "markdown",
   "metadata": {
    "id": "qKLnAND25In1"
   },
   "source": [
    "**8. Observamos en un espacio tridimensional los datos de entrada y el hyperplano de separación**"
   ]
  },
  {
   "cell_type": "code",
   "execution_count": 11,
   "metadata": {
    "id": "sDMPsnkq8Kqc"
   },
   "outputs": [],
   "source": [
    "def sigmoid(X):\n",
    "   return 1/(1 + np.exp(-X)) "
   ]
  },
  {
   "cell_type": "code",
   "execution_count": 12,
   "metadata": {
    "id": "T_oiGSVl0UYH"
   },
   "outputs": [],
   "source": [
    "t = np.arange(-2, 3, 1, dtype=int)\n",
    "x1, x2 = np.meshgrid(t, t)\n",
    "\n",
    "I = W0[0, 0]*x1 + W0[1, 0]*x2 + b0[0]\n",
    "z = sigmoid(I)"
   ]
  },
  {
   "cell_type": "code",
   "execution_count": 21,
   "metadata": {
    "colab": {
     "base_uri": "https://localhost:8080/",
     "height": 306
    },
    "id": "rqBKguf56bbf",
    "outputId": "1c550c6c-9358-4f20-8aa9-da1a940abf87"
   },
   "outputs": [
    {
     "name": "stdout",
     "output_type": "stream",
     "text": [
      "3888/3888 [==============================] - 5s 1ms/step\n"
     ]
    },
    {
     "data": {
      "image/png": "[encoded data removed]",
      "text/plain": [
       "<Figure size 432x288 with 1 Axes>"
      ]
     },
     "metadata": {
      "needs_background": "light"
     },
     "output_type": "display_data"
    }
   ],
   "source": [
    "from mlxtend.plotting import plot_decision_regions\n",
    "\n",
    "plot_decision_regions(X=X, y=y.reshape((-1,)).astype(int), clf=perceptron, legend=2)\n",
    "plt.xlabel(\"X\", size=5)\n",
    "plt.ylabel(\"y\", size=5)\n",
    "plt.title(\"I = 2.89x₁ + 1.05x₂ - 0.48\", size=10)\n",
    "plt.show()"
   ]
  },
  {
   "cell_type": "code",
   "execution_count": 22,
   "metadata": {
    "colab": {
     "base_uri": "https://localhost:8080/",
     "height": 411
    },
    "id": "oSgKjFP37w42",
    "outputId": "2d79f748-be57-4e44-e1d0-c6390fcb835c"
   },
   "outputs": [
    {
     "data": {
      "image/png": "[encoded data removed]",
      "text/plain": [
       "<Figure size 504x504 with 1 Axes>"
      ]
     },
     "metadata": {
      "needs_background": "light"
     },
     "output_type": "display_data"
    }
   ],
   "source": [
    "def plotBoundaries(colorMap):\n",
    "  fig = plt.figure(figsize=(7, 7))\n",
    "  \n",
    "  ax2 = plt.subplot(111, projection='3d')  \n",
    "  ax2.set_title(\"z = σ(2.89x₁ + 1.61x₂ - 0.48)\")\n",
    "\n",
    "  ax2.view_init(13, 110)\n",
    "  ax2.plot_surface(x1, x2, z, alpha=0.50, cmap=colorMap)\n",
    "\n",
    "  for u, v in zip(X.tolist(), y.tolist()):\n",
    "    ax2.scatter(u[0], u[1], [0.70], s=25.0, c=\"green\" if v[0] == 0 else \"blue\", marker=\"^\" if v[0] == 0 else \"o\")\n",
    "  \n",
    "  plt.show()\n",
    "\n",
    "plotBoundaries(colorMap=cm.cividis)"
   ]
  }
 ],
 "metadata": {
  "accelerator": "GPU",
  "colab": {
   "provenance": []
  },
  "kernelspec": {
   "display_name": "Python 3 (ipykernel)",
   "language": "python",
   "name": "python3"
  },
  "language_info": {
   "codemirror_mode": {
    "name": "ipython",
    "version": 3
   },
   "file_extension": ".py",
   "mimetype": "text/x-python",
   "name": "python",
   "nbconvert_exporter": "python",
   "pygments_lexer": "ipython3",
   "version": "3.9.7"
  }
 },
 "nbformat": 4,
 "nbformat_minor": 1
}
